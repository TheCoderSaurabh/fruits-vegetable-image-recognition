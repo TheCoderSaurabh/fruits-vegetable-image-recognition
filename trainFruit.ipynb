{
  "cells": [
    {
      "cell_type": "code",
      "execution_count": null,
      "metadata": {
        "id": "EPoxh3hxruD5"
      },
      "outputs": [],
      "source": [
        "import numpy as np\n",
        "import tensorflow as tf\n",
        "import matplotlib.pyplot as plt"
      ]
    },
    {
      "cell_type": "code",
      "execution_count": null,
      "metadata": {
        "colab": {
          "base_uri": "https://localhost:8080/"
        },
        "id": "bWLdU9yLr9CI",
        "outputId": "f20966dc-8319-4048-e1b4-8eda9faf5661"
      },
      "outputs": [
        {
          "name": "stdout",
          "output_type": "stream",
          "text": [
            "Found 3115 files belonging to 36 classes.\n"
          ]
        }
      ],
      "source": [
        "training_set = tf.keras.utils.image_dataset_from_directory(\n",
        "    '/content/drive/MyDrive/VegetableDataset/train',\n",
        "    labels=\"inferred\",\n",
        "    label_mode=\"categorical\",\n",
        "    class_names=None,\n",
        "    color_mode=\"rgb\",\n",
        "    batch_size=32,\n",
        "    image_size=(64, 64),\n",
        "    shuffle=True,\n",
        "    seed=None,\n",
        "    validation_split=None,\n",
        "    subset=None,\n",
        "    interpolation=\"bilinear\",\n",
        "    follow_links=False,\n",
        "    crop_to_aspect_ratio=False\n",
        ")"
      ]
    },
    {
      "cell_type": "code",
      "execution_count": null,
      "metadata": {
        "colab": {
          "base_uri": "https://localhost:8080/"
        },
        "id": "CW6Phcn81H5N",
        "outputId": "75b4f0e6-1f03-46ad-ac82-9ce615141169"
      },
      "outputs": [
        {
          "name": "stdout",
          "output_type": "stream",
          "text": [
            "Found 351 files belonging to 36 classes.\n"
          ]
        }
      ],
      "source": [
        "validation_set = tf.keras.utils.image_dataset_from_directory(\n",
        "    '/content/drive/MyDrive/VegetableDataset/validation',\n",
        "    labels=\"inferred\",\n",
        "    label_mode=\"categorical\",\n",
        "    class_names=None,\n",
        "    color_mode=\"rgb\",\n",
        "    batch_size=32,\n",
        "    image_size=(64, 64),\n",
        "    shuffle=True,\n",
        "    seed=None,\n",
        "    validation_split=None,\n",
        "    subset=None,\n",
        "    interpolation=\"bilinear\",\n",
        "    follow_links=False,\n",
        "    crop_to_aspect_ratio=False\n",
        ")"
      ]
    },
    {
      "cell_type": "code",
      "execution_count": null,
      "metadata": {
        "id": "FT3Ek3711WLD"
      },
      "outputs": [],
      "source": [
        "cnn = tf.keras.models.Sequential()"
      ]
    },
    {
      "cell_type": "code",
      "execution_count": null,
      "metadata": {
        "colab": {
          "base_uri": "https://localhost:8080/"
        },
        "id": "NmDUpieQ1ZYd",
        "outputId": "db65f49c-615a-4302-8141-a65c4b1a2932"
      },
      "outputs": [
        {
          "name": "stderr",
          "output_type": "stream",
          "text": [
            "/usr/local/lib/python3.11/dist-packages/keras/src/layers/convolutional/base_conv.py:107: UserWarning: Do not pass an `input_shape`/`input_dim` argument to a layer. When using Sequential models, prefer using an `Input(shape)` object as the first layer in the model instead.\n",
            "  super().__init__(activity_regularizer=activity_regularizer, **kwargs)\n"
          ]
        }
      ],
      "source": [
        "cnn.add(tf.keras.layers.Conv2D(filters=64,kernel_size=3,activation='relu',input_shape=[64,64,3]))\n",
        "cnn.add(tf.keras.layers.MaxPool2D(pool_size=2,strides=2))"
      ]
    },
    {
      "cell_type": "code",
      "execution_count": null,
      "metadata": {
        "id": "-PNDx-FC1fs8"
      },
      "outputs": [],
      "source": [
        "cnn.add(tf.keras.layers.Conv2D(filters=256,kernel_size=3,activation='relu'))\n",
        "cnn.add(tf.keras.layers.MaxPool2D(pool_size=2,strides=2))"
      ]
    },
    {
      "cell_type": "code",
      "execution_count": null,
      "metadata": {
        "id": "oaUJwmiV1iNW"
      },
      "outputs": [],
      "source": [
        "cnn.add(tf.keras.layers.Dropout(0.25))"
      ]
    },
    {
      "cell_type": "code",
      "execution_count": null,
      "metadata": {
        "id": "pbTtUwB31mca"
      },
      "outputs": [],
      "source": [
        "cnn.add(tf.keras.layers.Flatten())"
      ]
    },
    {
      "cell_type": "code",
      "execution_count": null,
      "metadata": {
        "id": "v9aIFk8_1oKn"
      },
      "outputs": [],
      "source": [
        "cnn.add(tf.keras.layers.Dense(units=128,activation='relu'))"
      ]
    },
    {
      "cell_type": "code",
      "execution_count": null,
      "metadata": {
        "id": "0pHZfq5E1qv3"
      },
      "outputs": [],
      "source": [
        "cnn.add(tf.keras.layers.Dense(units=36 ,activation='softmax'))"
      ]
    },
    {
      "cell_type": "code",
      "execution_count": null,
      "metadata": {
        "id": "cBXT7v9f10Ki"
      },
      "outputs": [],
      "source": [
        "cnn.compile(optimizer='rmsprop',loss='categorical_crossentropy',metrics=['accuracy'])"
      ]
    },
    {
      "cell_type": "code",
      "execution_count": null,
      "metadata": {
        "colab": {
          "background_save": true,
          "base_uri": "https://localhost:8080/"
        },
        "id": "NsTk34U1LvPx",
        "outputId": "834c4afa-40be-4da5-ddc1-d64bcc218f5d"
      },
      "outputs": [
        {
          "name": "stdout",
          "output_type": "stream",
          "text": [
            "Epoch 1/32\n",
            "\u001b[1m98/98\u001b[0m \u001b[32m━━━━━━━━━━━━━━━━━━━━\u001b[0m\u001b[37m\u001b[0m \u001b[1m863s\u001b[0m 9s/step - accuracy: 0.0377 - loss: 164.9679 - val_accuracy: 0.0969 - val_loss: 3.4264\n",
            "Epoch 2/32\n",
            "\u001b[1m98/98\u001b[0m \u001b[32m━━━━━━━━━━━━━━━━━━━━\u001b[0m\u001b[37m\u001b[0m \u001b[1m125s\u001b[0m 663ms/step - accuracy: 0.0792 - loss: 7.1441 - val_accuracy: 0.0598 - val_loss: 3.6627\n",
            "Epoch 3/32\n",
            "\u001b[1m98/98\u001b[0m \u001b[32m━━━━━━━━━━━━━━━━━━━━\u001b[0m\u001b[37m\u001b[0m \u001b[1m63s\u001b[0m 640ms/step - accuracy: 0.0288 - loss: 4.2025 - val_accuracy: 0.0427 - val_loss: 7.6990\n",
            "Epoch 4/32\n",
            "\u001b[1m98/98\u001b[0m \u001b[32m━━━━━━━━━━━━━━━━━━━━\u001b[0m\u001b[37m\u001b[0m \u001b[1m65s\u001b[0m 656ms/step - accuracy: 0.0311 - loss: 4.1277 - val_accuracy: 0.0285 - val_loss: 3.5837\n",
            "Epoch 5/32\n",
            "\u001b[1m98/98\u001b[0m \u001b[32m━━━━━━━━━━━━━━━━━━━━\u001b[0m\u001b[37m\u001b[0m \u001b[1m80s\u001b[0m 637ms/step - accuracy: 0.0288 - loss: 3.5819 - val_accuracy: 0.0285 - val_loss: 3.5839\n",
            "Epoch 6/32\n",
            "\u001b[1m98/98\u001b[0m \u001b[32m━━━━━━━━━━━━━━━━━━━━\u001b[0m\u001b[37m\u001b[0m \u001b[1m84s\u001b[0m 657ms/step - accuracy: 0.0303 - loss: 3.5849 - val_accuracy: 0.0285 - val_loss: 3.5955\n",
            "Epoch 7/32\n",
            "\u001b[1m98/98\u001b[0m \u001b[32m━━━━━━━━━━━━━━━━━━━━\u001b[0m\u001b[37m\u001b[0m \u001b[1m82s\u001b[0m 657ms/step - accuracy: 0.0307 - loss: 3.8623 - val_accuracy: 0.0285 - val_loss: 3.5843\n",
            "Epoch 8/32\n",
            "\u001b[1m98/98\u001b[0m \u001b[32m━━━━━━━━━━━━━━━━━━━━\u001b[0m\u001b[37m\u001b[0m \u001b[1m64s\u001b[0m 651ms/step - accuracy: 0.0261 - loss: 3.5846 - val_accuracy: 0.0256 - val_loss: 3.5843\n",
            "Epoch 9/32\n",
            "\u001b[1m98/98\u001b[0m \u001b[32m━━━━━━━━━━━━━━━━━━━━\u001b[0m\u001b[37m\u001b[0m \u001b[1m82s\u001b[0m 654ms/step - accuracy: 0.0239 - loss: 3.5930 - val_accuracy: 0.0256 - val_loss: 3.5848\n",
            "Epoch 10/32\n",
            "\u001b[1m98/98\u001b[0m \u001b[32m━━━━━━━━━━━━━━━━━━━━\u001b[0m\u001b[37m\u001b[0m \u001b[1m64s\u001b[0m 652ms/step - accuracy: 0.0273 - loss: 3.5879 - val_accuracy: 0.0256 - val_loss: 3.5851\n",
            "Epoch 11/32\n",
            "\u001b[1m98/98\u001b[0m \u001b[32m━━━━━━━━━━━━━━━━━━━━\u001b[0m\u001b[37m\u001b[0m \u001b[1m82s\u001b[0m 652ms/step - accuracy: 0.0282 - loss: 3.5805 - val_accuracy: 0.0256 - val_loss: 3.5853\n",
            "Epoch 12/32\n",
            "\u001b[1m98/98\u001b[0m \u001b[32m━━━━━━━━━━━━━━━━━━━━\u001b[0m\u001b[37m\u001b[0m \u001b[1m81s\u001b[0m 648ms/step - accuracy: 0.0235 - loss: 3.5803 - val_accuracy: 0.0256 - val_loss: 3.5856\n",
            "Epoch 13/32\n",
            "\u001b[1m98/98\u001b[0m \u001b[32m━━━━━━━━━━━━━━━━━━━━\u001b[0m\u001b[37m\u001b[0m \u001b[1m60s\u001b[0m 616ms/step - accuracy: 0.0318 - loss: 3.5799 - val_accuracy: 0.0256 - val_loss: 3.5858\n",
            "Epoch 14/32\n",
            "\u001b[1m98/98\u001b[0m \u001b[32m━━━━━━━━━━━━━━━━━━━━\u001b[0m\u001b[37m\u001b[0m \u001b[1m64s\u001b[0m 658ms/step - accuracy: 0.0313 - loss: 3.5793 - val_accuracy: 0.0256 - val_loss: 3.5860\n",
            "Epoch 15/32\n",
            "\u001b[1m98/98\u001b[0m \u001b[32m━━━━━━━━━━━━━━━━━━━━\u001b[0m\u001b[37m\u001b[0m \u001b[1m64s\u001b[0m 658ms/step - accuracy: 0.0308 - loss: 3.5795 - val_accuracy: 0.0256 - val_loss: 3.5863\n",
            "Epoch 16/32\n",
            "\u001b[1m98/98\u001b[0m \u001b[32m━━━━━━━━━━━━━━━━━━━━\u001b[0m\u001b[37m\u001b[0m \u001b[1m62s\u001b[0m 636ms/step - accuracy: 0.0306 - loss: 3.7082 - val_accuracy: 0.0256 - val_loss: 3.5866\n",
            "Epoch 17/32\n",
            "\u001b[1m98/98\u001b[0m \u001b[32m━━━━━━━━━━━━━━━━━━━━\u001b[0m\u001b[37m\u001b[0m \u001b[1m65s\u001b[0m 663ms/step - accuracy: 0.0301 - loss: 3.5799 - val_accuracy: 0.0256 - val_loss: 3.5868\n",
            "Epoch 18/32\n",
            "\u001b[1m98/98\u001b[0m \u001b[32m━━━━━━━━━━━━━━━━━━━━\u001b[0m\u001b[37m\u001b[0m \u001b[1m78s\u001b[0m 619ms/step - accuracy: 0.0308 - loss: 3.5794 - val_accuracy: 0.0256 - val_loss: 3.5869\n",
            "Epoch 19/32\n",
            "\u001b[1m98/98\u001b[0m \u001b[32m━━━━━━━━━━━━━━━━━━━━\u001b[0m\u001b[37m\u001b[0m \u001b[1m85s\u001b[0m 648ms/step - accuracy: 0.0325 - loss: 3.5821 - val_accuracy: 0.0256 - val_loss: 3.5862\n",
            "Epoch 20/32\n",
            "\u001b[1m98/98\u001b[0m \u001b[32m━━━━━━━━━━━━━━━━━━━━\u001b[0m\u001b[37m\u001b[0m \u001b[1m82s\u001b[0m 655ms/step - accuracy: 0.0299 - loss: 3.6678 - val_accuracy: 0.0256 - val_loss: 3.5873\n",
            "Epoch 21/32\n",
            "\u001b[1m98/98\u001b[0m \u001b[32m━━━━━━━━━━━━━━━━━━━━\u001b[0m\u001b[37m\u001b[0m \u001b[1m79s\u001b[0m 618ms/step - accuracy: 0.0296 - loss: 3.5793 - val_accuracy: 0.0256 - val_loss: 3.5874\n",
            "Epoch 22/32\n",
            "\u001b[1m98/98\u001b[0m \u001b[32m━━━━━━━━━━━━━━━━━━━━\u001b[0m\u001b[37m\u001b[0m \u001b[1m61s\u001b[0m 629ms/step - accuracy: 0.0314 - loss: 3.5782 - val_accuracy: 0.0256 - val_loss: 3.5875\n",
            "Epoch 23/32\n",
            "\u001b[1m98/98\u001b[0m \u001b[32m━━━━━━━━━━━━━━━━━━━━\u001b[0m\u001b[37m\u001b[0m \u001b[1m62s\u001b[0m 632ms/step - accuracy: 0.0299 - loss: 3.5794 - val_accuracy: 0.0256 - val_loss: 3.5877\n",
            "Epoch 24/32\n",
            "\u001b[1m98/98\u001b[0m \u001b[32m━━━━━━━━━━━━━━━━━━━━\u001b[0m\u001b[37m\u001b[0m \u001b[1m80s\u001b[0m 623ms/step - accuracy: 0.0275 - loss: 3.5794 - val_accuracy: 0.0256 - val_loss: 3.5878\n",
            "Epoch 25/32\n",
            "\u001b[1m98/98\u001b[0m \u001b[32m━━━━━━━━━━━━━━━━━━━━\u001b[0m\u001b[37m\u001b[0m \u001b[1m65s\u001b[0m 654ms/step - accuracy: 0.0314 - loss: 3.5791 - val_accuracy: 0.0256 - val_loss: 3.5879\n",
            "Epoch 26/32\n",
            "\u001b[1m98/98\u001b[0m \u001b[32m━━━━━━━━━━━━━━━━━━━━\u001b[0m\u001b[37m\u001b[0m \u001b[1m78s\u001b[0m 617ms/step - accuracy: 0.0317 - loss: 3.5797 - val_accuracy: 0.0256 - val_loss: 3.5880\n",
            "Epoch 27/32\n",
            "\u001b[1m98/98\u001b[0m \u001b[32m━━━━━━━━━━━━━━━━━━━━\u001b[0m\u001b[37m\u001b[0m \u001b[1m62s\u001b[0m 635ms/step - accuracy: 0.0323 - loss: 3.5776 - val_accuracy: 0.0256 - val_loss: 3.5881\n",
            "Epoch 28/32\n",
            "\u001b[1m98/98\u001b[0m \u001b[32m━━━━━━━━━━━━━━━━━━━━\u001b[0m\u001b[37m\u001b[0m \u001b[1m85s\u001b[0m 665ms/step - accuracy: 0.0321 - loss: 3.5778 - val_accuracy: 0.0256 - val_loss: 3.5882\n",
            "Epoch 29/32\n",
            "\u001b[1m98/98\u001b[0m \u001b[32m━━━━━━━━━━━━━━━━━━━━\u001b[0m\u001b[37m\u001b[0m \u001b[1m63s\u001b[0m 650ms/step - accuracy: 0.0303 - loss: 3.5798 - val_accuracy: 0.0256 - val_loss: 3.5883\n",
            "Epoch 30/32\n",
            "\u001b[1m98/98\u001b[0m \u001b[32m━━━━━━━━━━━━━━━━━━━━\u001b[0m\u001b[37m\u001b[0m \u001b[1m82s\u001b[0m 644ms/step - accuracy: 0.0283 - loss: 3.5787 - val_accuracy: 0.0256 - val_loss: 3.5884\n",
            "Epoch 31/32\n",
            "\u001b[1m98/98\u001b[0m \u001b[32m━━━━━━━━━━━━━━━━━━━━\u001b[0m\u001b[37m\u001b[0m \u001b[1m82s\u001b[0m 641ms/step - accuracy: 0.0290 - loss: 3.5786 - val_accuracy: 0.0256 - val_loss: 3.5885\n",
            "Epoch 32/32\n",
            "\u001b[1m98/98\u001b[0m \u001b[32m━━━━━━━━━━━━━━━━━━━━\u001b[0m\u001b[37m\u001b[0m \u001b[1m63s\u001b[0m 642ms/step - accuracy: 0.0284 - loss: 3.5792 - val_accuracy: 0.0256 - val_loss: 3.5885\n"
          ]
        }
      ],
      "source": [
        "training_history = cnn.fit(x=training_set,validation_data=validation_set,epochs=32)"
      ]
    }
  ],
  "metadata": {
    "accelerator": "GPU",
    "colab": {
      "gpuType": "T4",
      "provenance": []
    },
    "kernelspec": {
      "display_name": "Python 3",
      "name": "python3"
    },
    "language_info": {
      "name": "python"
    }
  },
  "nbformat": 4,
  "nbformat_minor": 0
}